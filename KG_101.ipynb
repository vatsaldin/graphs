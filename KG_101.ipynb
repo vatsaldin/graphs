{
 "cells": [
  {
   "cell_type": "code",
   "execution_count": null,
   "outputs": [],
   "source": [],
   "metadata": {
    "collapsed": false,
    "pycharm": {
     "name": "#%%\n"
    }
   }
  },
  {
   "cell_type": "code",
   "execution_count": 1,
   "outputs": [
    {
     "name": "stderr",
     "output_type": "stream",
     "text": [
      "/home/vatsal/Applications/miniconda3/envs/bertopic/lib/python3.7/site-packages/spacy/util.py:865: UserWarning: [W095] Model 'en_core_web_lg' (2.3.1) was trained with spaCy v2.3 and may not be 100% compatible with the current version (3.4.1). If you see errors or degraded performance, download a newer compatible model or retrain your custom model with the current spaCy version. For more details and available updates, run: python -m spacy validate\n",
      "  warnings.warn(warn_msg)\n"
     ]
    },
    {
     "ename": "OSError",
     "evalue": "[E053] Could not read config file from /home/vatsal/Applications/miniconda3/envs/bertopic/lib/python3.7/site-packages/en_core_web_lg/en_core_web_lg-2.3.1/config.cfg",
     "output_type": "error",
     "traceback": [
      "\u001B[0;31m---------------------------------------------------------------------------\u001B[0m",
      "\u001B[0;31mOSError\u001B[0m                                   Traceback (most recent call last)",
      "\u001B[0;32m/tmp/ipykernel_40704/1377057058.py\u001B[0m in \u001B[0;36m<module>\u001B[0;34m\u001B[0m\n\u001B[1;32m      3\u001B[0m \u001B[0;32mimport\u001B[0m \u001B[0mpandas\u001B[0m \u001B[0;32mas\u001B[0m \u001B[0mpd\u001B[0m\u001B[0;34m\u001B[0m\u001B[0;34m\u001B[0m\u001B[0m\n\u001B[1;32m      4\u001B[0m \u001B[0;32mimport\u001B[0m \u001B[0mspacy\u001B[0m\u001B[0;34m\u001B[0m\u001B[0;34m\u001B[0m\u001B[0m\n\u001B[0;32m----> 5\u001B[0;31m \u001B[0mnlp\u001B[0m \u001B[0;34m=\u001B[0m \u001B[0mspacy\u001B[0m\u001B[0;34m.\u001B[0m\u001B[0mload\u001B[0m\u001B[0;34m(\u001B[0m\u001B[0;34m'en_core_web_lg'\u001B[0m\u001B[0;34m)\u001B[0m\u001B[0;34m\u001B[0m\u001B[0;34m\u001B[0m\u001B[0m\n\u001B[0m",
      "\u001B[0;32m~/Applications/miniconda3/envs/bertopic/lib/python3.7/site-packages/spacy/__init__.py\u001B[0m in \u001B[0;36mload\u001B[0;34m(name, vocab, disable, enable, exclude, config)\u001B[0m\n\u001B[1;32m     58\u001B[0m         \u001B[0menable\u001B[0m\u001B[0;34m=\u001B[0m\u001B[0menable\u001B[0m\u001B[0;34m,\u001B[0m\u001B[0;34m\u001B[0m\u001B[0;34m\u001B[0m\u001B[0m\n\u001B[1;32m     59\u001B[0m         \u001B[0mexclude\u001B[0m\u001B[0;34m=\u001B[0m\u001B[0mexclude\u001B[0m\u001B[0;34m,\u001B[0m\u001B[0;34m\u001B[0m\u001B[0;34m\u001B[0m\u001B[0m\n\u001B[0;32m---> 60\u001B[0;31m         \u001B[0mconfig\u001B[0m\u001B[0;34m=\u001B[0m\u001B[0mconfig\u001B[0m\u001B[0;34m,\u001B[0m\u001B[0;34m\u001B[0m\u001B[0;34m\u001B[0m\u001B[0m\n\u001B[0m\u001B[1;32m     61\u001B[0m     )\n\u001B[1;32m     62\u001B[0m \u001B[0;34m\u001B[0m\u001B[0m\n",
      "\u001B[0;32m~/Applications/miniconda3/envs/bertopic/lib/python3.7/site-packages/spacy/util.py\u001B[0m in \u001B[0;36mload_model\u001B[0;34m(name, vocab, disable, enable, exclude, config)\u001B[0m\n\u001B[1;32m    427\u001B[0m             \u001B[0;32mreturn\u001B[0m \u001B[0mget_lang_class\u001B[0m\u001B[0;34m(\u001B[0m\u001B[0mname\u001B[0m\u001B[0;34m.\u001B[0m\u001B[0mreplace\u001B[0m\u001B[0;34m(\u001B[0m\u001B[0;34m\"blank:\"\u001B[0m\u001B[0;34m,\u001B[0m \u001B[0;34m\"\"\u001B[0m\u001B[0;34m)\u001B[0m\u001B[0;34m)\u001B[0m\u001B[0;34m(\u001B[0m\u001B[0;34m)\u001B[0m\u001B[0;34m\u001B[0m\u001B[0;34m\u001B[0m\u001B[0m\n\u001B[1;32m    428\u001B[0m         \u001B[0;32mif\u001B[0m \u001B[0mis_package\u001B[0m\u001B[0;34m(\u001B[0m\u001B[0mname\u001B[0m\u001B[0;34m)\u001B[0m\u001B[0;34m:\u001B[0m  \u001B[0;31m# installed as package\u001B[0m\u001B[0;34m\u001B[0m\u001B[0;34m\u001B[0m\u001B[0m\n\u001B[0;32m--> 429\u001B[0;31m             \u001B[0;32mreturn\u001B[0m \u001B[0mload_model_from_package\u001B[0m\u001B[0;34m(\u001B[0m\u001B[0mname\u001B[0m\u001B[0;34m,\u001B[0m \u001B[0;34m**\u001B[0m\u001B[0mkwargs\u001B[0m\u001B[0;34m)\u001B[0m  \u001B[0;31m# type: ignore[arg-type]\u001B[0m\u001B[0;34m\u001B[0m\u001B[0;34m\u001B[0m\u001B[0m\n\u001B[0m\u001B[1;32m    430\u001B[0m         \u001B[0;32mif\u001B[0m \u001B[0mPath\u001B[0m\u001B[0;34m(\u001B[0m\u001B[0mname\u001B[0m\u001B[0;34m)\u001B[0m\u001B[0;34m.\u001B[0m\u001B[0mexists\u001B[0m\u001B[0;34m(\u001B[0m\u001B[0;34m)\u001B[0m\u001B[0;34m:\u001B[0m  \u001B[0;31m# path to model data directory\u001B[0m\u001B[0;34m\u001B[0m\u001B[0;34m\u001B[0m\u001B[0m\n\u001B[1;32m    431\u001B[0m             \u001B[0;32mreturn\u001B[0m \u001B[0mload_model_from_path\u001B[0m\u001B[0;34m(\u001B[0m\u001B[0mPath\u001B[0m\u001B[0;34m(\u001B[0m\u001B[0mname\u001B[0m\u001B[0;34m)\u001B[0m\u001B[0;34m,\u001B[0m \u001B[0;34m**\u001B[0m\u001B[0mkwargs\u001B[0m\u001B[0;34m)\u001B[0m  \u001B[0;31m# type: ignore[arg-type]\u001B[0m\u001B[0;34m\u001B[0m\u001B[0;34m\u001B[0m\u001B[0m\n",
      "\u001B[0;32m~/Applications/miniconda3/envs/bertopic/lib/python3.7/site-packages/spacy/util.py\u001B[0m in \u001B[0;36mload_model_from_package\u001B[0;34m(name, vocab, disable, enable, exclude, config)\u001B[0m\n\u001B[1;32m    463\u001B[0m     \"\"\"\n\u001B[1;32m    464\u001B[0m     \u001B[0mcls\u001B[0m \u001B[0;34m=\u001B[0m \u001B[0mimportlib\u001B[0m\u001B[0;34m.\u001B[0m\u001B[0mimport_module\u001B[0m\u001B[0;34m(\u001B[0m\u001B[0mname\u001B[0m\u001B[0;34m)\u001B[0m\u001B[0;34m\u001B[0m\u001B[0;34m\u001B[0m\u001B[0m\n\u001B[0;32m--> 465\u001B[0;31m     \u001B[0;32mreturn\u001B[0m \u001B[0mcls\u001B[0m\u001B[0;34m.\u001B[0m\u001B[0mload\u001B[0m\u001B[0;34m(\u001B[0m\u001B[0mvocab\u001B[0m\u001B[0;34m=\u001B[0m\u001B[0mvocab\u001B[0m\u001B[0;34m,\u001B[0m \u001B[0mdisable\u001B[0m\u001B[0;34m=\u001B[0m\u001B[0mdisable\u001B[0m\u001B[0;34m,\u001B[0m \u001B[0menable\u001B[0m\u001B[0;34m=\u001B[0m\u001B[0menable\u001B[0m\u001B[0;34m,\u001B[0m \u001B[0mexclude\u001B[0m\u001B[0;34m=\u001B[0m\u001B[0mexclude\u001B[0m\u001B[0;34m,\u001B[0m \u001B[0mconfig\u001B[0m\u001B[0;34m=\u001B[0m\u001B[0mconfig\u001B[0m\u001B[0;34m)\u001B[0m  \u001B[0;31m# type: ignore[attr-defined]\u001B[0m\u001B[0;34m\u001B[0m\u001B[0;34m\u001B[0m\u001B[0m\n\u001B[0m\u001B[1;32m    466\u001B[0m \u001B[0;34m\u001B[0m\u001B[0m\n\u001B[1;32m    467\u001B[0m \u001B[0;34m\u001B[0m\u001B[0m\n",
      "\u001B[0;32m~/Applications/miniconda3/envs/bertopic/lib/python3.7/site-packages/en_core_web_lg/__init__.py\u001B[0m in \u001B[0;36mload\u001B[0;34m(**overrides)\u001B[0m\n\u001B[1;32m     10\u001B[0m \u001B[0;34m\u001B[0m\u001B[0m\n\u001B[1;32m     11\u001B[0m \u001B[0;32mdef\u001B[0m \u001B[0mload\u001B[0m\u001B[0;34m(\u001B[0m\u001B[0;34m**\u001B[0m\u001B[0moverrides\u001B[0m\u001B[0;34m)\u001B[0m\u001B[0;34m:\u001B[0m\u001B[0;34m\u001B[0m\u001B[0;34m\u001B[0m\u001B[0m\n\u001B[0;32m---> 12\u001B[0;31m     \u001B[0;32mreturn\u001B[0m \u001B[0mload_model_from_init_py\u001B[0m\u001B[0;34m(\u001B[0m\u001B[0m__file__\u001B[0m\u001B[0;34m,\u001B[0m \u001B[0;34m**\u001B[0m\u001B[0moverrides\u001B[0m\u001B[0;34m)\u001B[0m\u001B[0;34m\u001B[0m\u001B[0;34m\u001B[0m\u001B[0m\n\u001B[0m",
      "\u001B[0;32m~/Applications/miniconda3/envs/bertopic/lib/python3.7/site-packages/spacy/util.py\u001B[0m in \u001B[0;36mload_model_from_init_py\u001B[0;34m(init_file, vocab, disable, enable, exclude, config)\u001B[0m\n\u001B[1;32m    651\u001B[0m         \u001B[0menable\u001B[0m\u001B[0;34m=\u001B[0m\u001B[0menable\u001B[0m\u001B[0;34m,\u001B[0m\u001B[0;34m\u001B[0m\u001B[0;34m\u001B[0m\u001B[0m\n\u001B[1;32m    652\u001B[0m         \u001B[0mexclude\u001B[0m\u001B[0;34m=\u001B[0m\u001B[0mexclude\u001B[0m\u001B[0;34m,\u001B[0m\u001B[0;34m\u001B[0m\u001B[0;34m\u001B[0m\u001B[0m\n\u001B[0;32m--> 653\u001B[0;31m         \u001B[0mconfig\u001B[0m\u001B[0;34m=\u001B[0m\u001B[0mconfig\u001B[0m\u001B[0;34m,\u001B[0m\u001B[0;34m\u001B[0m\u001B[0;34m\u001B[0m\u001B[0m\n\u001B[0m\u001B[1;32m    654\u001B[0m     )\n\u001B[1;32m    655\u001B[0m \u001B[0;34m\u001B[0m\u001B[0m\n",
      "\u001B[0;32m~/Applications/miniconda3/envs/bertopic/lib/python3.7/site-packages/spacy/util.py\u001B[0m in \u001B[0;36mload_model_from_path\u001B[0;34m(model_path, meta, vocab, disable, enable, exclude, config)\u001B[0m\n\u001B[1;32m    500\u001B[0m     \u001B[0mconfig_path\u001B[0m \u001B[0;34m=\u001B[0m \u001B[0mmodel_path\u001B[0m \u001B[0;34m/\u001B[0m \u001B[0;34m\"config.cfg\"\u001B[0m\u001B[0;34m\u001B[0m\u001B[0;34m\u001B[0m\u001B[0m\n\u001B[1;32m    501\u001B[0m     \u001B[0moverrides\u001B[0m \u001B[0;34m=\u001B[0m \u001B[0mdict_to_dot\u001B[0m\u001B[0;34m(\u001B[0m\u001B[0mconfig\u001B[0m\u001B[0;34m)\u001B[0m\u001B[0;34m\u001B[0m\u001B[0;34m\u001B[0m\u001B[0m\n\u001B[0;32m--> 502\u001B[0;31m     \u001B[0mconfig\u001B[0m \u001B[0;34m=\u001B[0m \u001B[0mload_config\u001B[0m\u001B[0;34m(\u001B[0m\u001B[0mconfig_path\u001B[0m\u001B[0;34m,\u001B[0m \u001B[0moverrides\u001B[0m\u001B[0;34m=\u001B[0m\u001B[0moverrides\u001B[0m\u001B[0;34m)\u001B[0m\u001B[0;34m\u001B[0m\u001B[0;34m\u001B[0m\u001B[0m\n\u001B[0m\u001B[1;32m    503\u001B[0m     nlp = load_model_from_config(\n\u001B[1;32m    504\u001B[0m         \u001B[0mconfig\u001B[0m\u001B[0;34m,\u001B[0m\u001B[0;34m\u001B[0m\u001B[0;34m\u001B[0m\u001B[0m\n",
      "\u001B[0;32m~/Applications/miniconda3/envs/bertopic/lib/python3.7/site-packages/spacy/util.py\u001B[0m in \u001B[0;36mload_config\u001B[0;34m(path, overrides, interpolate)\u001B[0m\n\u001B[1;32m    676\u001B[0m     \u001B[0;32melse\u001B[0m\u001B[0;34m:\u001B[0m\u001B[0;34m\u001B[0m\u001B[0;34m\u001B[0m\u001B[0m\n\u001B[1;32m    677\u001B[0m         \u001B[0;32mif\u001B[0m \u001B[0;32mnot\u001B[0m \u001B[0mconfig_path\u001B[0m \u001B[0;32mor\u001B[0m \u001B[0;32mnot\u001B[0m \u001B[0mconfig_path\u001B[0m\u001B[0;34m.\u001B[0m\u001B[0mis_file\u001B[0m\u001B[0;34m(\u001B[0m\u001B[0;34m)\u001B[0m\u001B[0;34m:\u001B[0m\u001B[0;34m\u001B[0m\u001B[0;34m\u001B[0m\u001B[0m\n\u001B[0;32m--> 678\u001B[0;31m             \u001B[0;32mraise\u001B[0m \u001B[0mIOError\u001B[0m\u001B[0;34m(\u001B[0m\u001B[0mErrors\u001B[0m\u001B[0;34m.\u001B[0m\u001B[0mE053\u001B[0m\u001B[0;34m.\u001B[0m\u001B[0mformat\u001B[0m\u001B[0;34m(\u001B[0m\u001B[0mpath\u001B[0m\u001B[0;34m=\u001B[0m\u001B[0mconfig_path\u001B[0m\u001B[0;34m,\u001B[0m \u001B[0mname\u001B[0m\u001B[0;34m=\u001B[0m\u001B[0;34m\"config file\"\u001B[0m\u001B[0;34m)\u001B[0m\u001B[0;34m)\u001B[0m\u001B[0;34m\u001B[0m\u001B[0;34m\u001B[0m\u001B[0m\n\u001B[0m\u001B[1;32m    679\u001B[0m         return config.from_disk(\n\u001B[1;32m    680\u001B[0m             \u001B[0mconfig_path\u001B[0m\u001B[0;34m,\u001B[0m \u001B[0moverrides\u001B[0m\u001B[0;34m=\u001B[0m\u001B[0moverrides\u001B[0m\u001B[0;34m,\u001B[0m \u001B[0minterpolate\u001B[0m\u001B[0;34m=\u001B[0m\u001B[0minterpolate\u001B[0m\u001B[0;34m\u001B[0m\u001B[0;34m\u001B[0m\u001B[0m\n",
      "\u001B[0;31mOSError\u001B[0m: [E053] Could not read config file from /home/vatsal/Applications/miniconda3/envs/bertopic/lib/python3.7/site-packages/en_core_web_lg/en_core_web_lg-2.3.1/config.cfg"
     ]
    }
   ],
   "source": [
    "from textacy.extract import subject_verb_object_triples\n",
    "from matplotlib import pylab as plt\n",
    "import pandas as pd\n",
    "import spacy\n",
    "nlp = spacy.load('en_core_web_lg')"
   ],
   "metadata": {
    "collapsed": false,
    "pycharm": {
     "name": "#%%\n"
    }
   }
  },
  {
   "cell_type": "code",
   "execution_count": null,
   "metadata": {
    "id": "bnE6oVZ6naOD",
    "pycharm": {
     "name": "#%%\n"
    }
   },
   "outputs": [],
   "source": [
    "text =\"France , officially the French Republic (French: République française)[1] is a transcontinental\"\\\n",
    "\"country spanning Western Europe and overseas regions and territories in South America and the Atlantic,\"\\\n",
    "\"Pacific and Indian Oceans.[XIII] Including all of its territories,\"\\\n",
    "\"France has twelve time zones, the most of any country.\"\\\n",
    "\"Its metropolitan area extends from the Rhine to the Atlantic Ocean and from the Mediterranean Sea\"\\\n",
    "\"to the English Channel and the North Sea; overseas territories include French Guiana in South America,\"\\\n",
    "\" Saint Pierre and Miquelon in North Atlantic, French West Indies and several islands in Oceania and Indian Ocean.\"\\\n",
    "\" Due to its several coastal territories, France has the largest exclusive economic zone in the world.\"\\\n",
    "\" France borders Belgium, Luxembourg, Germany, Switzerland, Monaco, Italy, Andorra and Spain in Europe,\"\\\n",
    "\" as well as the Netherlands, Suriname and Brazil in the Americas. \"\\\n",
    "\"Its eighteen integral regions (five of which are overseas) span a combined area of 643,801 km2\"\\\n",
    "\"(248,573 sq mi) and over 67 million people (as of May 2021).\"\\\n",
    "\" France is a unitary semi-presidential republic with its capital in Paris, the\" \\\n",
    "\"country's largest city and main cultural and commercial centre; \"\\\n",
    "\"other major urban areas include Lyon, Marseille, Toulouse, Bordeaux, Lille and Nice.\""
   ]
  },
  {
   "cell_type": "code",
   "execution_count": null,
   "metadata": {
    "id": "O3vrsVdgnaOD",
    "outputId": "8f513109-205d-41f8-f742-0a91068f174b",
    "pycharm": {
     "name": "#%%\n"
    }
   },
   "outputs": [
    {
     "name": "stdout",
     "output_type": "stream",
     "text": [
      "France , officially the French Republic (French: République française)[1] is a transcontinentalcountry spanning Western Europe and overseas regions and territories in South America and the Atlantic,Pacific and Indian Oceans.[XIII] Including all of its territories,France has twelve time zones, the most of any country.\n",
      "Its metropolitan area extends from the Rhine to the Atlantic Ocean and from the Mediterranean Seato the English Channel and the North Sea; overseas territories include French Guiana in South America, Saint Pierre and Miquelon in North Atlantic, French West Indies and several islands in Oceania and Indian Ocean.\n",
      "Due to its several coastal territories, France has the largest exclusive economic zone in the world.\n",
      "France borders Belgium, Luxembourg, Germany, Switzerland, Monaco, Italy, Andorra and Spain in Europe, as well as the Netherlands, Suriname and Brazil in the Americas.\n",
      "Its eighteen integral regions (five of which are overseas) span a combined area of 643,801 km2(248,573 sq mi) and over 67 million people (as of May 2021).\n",
      "France is a unitary semi-presidential republic with its capital in Paris, thecountry's largest city and main cultural and commercial centre; other major urban areas include Lyon, Marseille, Toulouse, Bordeaux, Lille and Nice.\n"
     ]
    }
   ],
   "source": [
    "\n",
    "document = nlp(text)\n",
    "\n",
    "sentences_in_doc = list(document.sents)\n",
    "for sentence in sentences_in_doc:\n",
    "    print (sentence)\n"
   ]
  },
  {
   "cell_type": "code",
   "execution_count": null,
   "metadata": {
    "id": "X5LMSq0MnaOE",
    "pycharm": {
     "name": "#%%\n"
    }
   },
   "outputs": [],
   "source": [
    "\n",
    "from tqdm import tqdm"
   ]
  },
  {
   "cell_type": "code",
   "execution_count": null,
   "metadata": {
    "id": "TfwyoGXbnaOE",
    "outputId": "c33f77de-3728-4e4b-a84c-53d316a161c6",
    "pycharm": {
     "name": "#%%\n"
    }
   },
   "outputs": [
    {
     "name": "stderr",
     "output_type": "stream",
     "text": [
      "100%|██████████| 6/6 [00:00<00:00, 5510.36it/s]\n"
     ]
    }
   ],
   "source": [
    "triples_raw = []\n",
    "\n",
    "for i in tqdm(sentences_in_doc):  \n",
    "    iterator = subject_verb_object_triples(i)\n",
    "    phrase_triples = []\n",
    "    for svo in iterator:\n",
    "        phrase_triples.append(svo)\n",
    "    triples_raw.append(phrase_triples)"
   ]
  },
  {
   "cell_type": "code",
   "execution_count": null,
   "metadata": {
    "id": "gHLF3IGKnaOF",
    "pycharm": {
     "name": "#%%\n"
    }
   },
   "outputs": [],
   "source": [
    "from itertools import chain\n",
    "triples_final = list(chain.from_iterable(triples_raw))"
   ]
  },
  {
   "cell_type": "code",
   "execution_count": null,
   "metadata": {
    "id": "8BlcNIdynaOF",
    "outputId": "73b91a38-a8e6-4409-df12-644b0aaf256e",
    "pycharm": {
     "name": "#%%\n"
    }
   },
   "outputs": [
    {
     "data": {
      "text/plain": [
       "[[(France, has, time zones)],\n",
       " [(territories, include, Guiana),\n",
       "  (territories, include, Indies),\n",
       "  (territories, include, islands)],\n",
       " [(France, has, zone)],\n",
       " [(France, borders, Belgium),\n",
       "  (France, borders, Luxembourg),\n",
       "  (France, borders, Germany),\n",
       "  (France, borders, Switzerland),\n",
       "  (France, borders, Monaco),\n",
       "  (France, borders, Italy),\n",
       "  (France, borders, Andorra),\n",
       "  (France, borders, Spain)],\n",
       " [(regions, span, area)],\n",
       " [(areas, include, Lyon),\n",
       "  (areas, include, Marseille),\n",
       "  (areas, include, Toulouse),\n",
       "  (areas, include, Bordeaux),\n",
       "  (areas, include, Lille),\n",
       "  (areas, include, Nice)]]"
      ]
     },
     "execution_count": 9,
     "metadata": {},
     "output_type": "execute_result"
    }
   ],
   "source": [
    "triples_raw"
   ]
  },
  {
   "cell_type": "code",
   "execution_count": null,
   "metadata": {
    "id": "2_o1Htr0naOF",
    "pycharm": {
     "name": "#%%\n"
    }
   },
   "outputs": [],
   "source": [
    "sources = []\n",
    "relations = []\n",
    "targets = []\n"
   ]
  },
  {
   "cell_type": "code",
   "execution_count": null,
   "metadata": {
    "id": "rOe80fvXnaOG",
    "outputId": "56631f8b-18f4-4c50-ce80-94c397841953",
    "pycharm": {
     "name": "#%%\n"
    }
   },
   "outputs": [
    {
     "name": "stdout",
     "output_type": "stream",
     "text": [
      "(France, has, time zones)\n",
      "(territories, include, Guiana)\n",
      "(territories, include, Indies)\n",
      "(territories, include, islands)\n",
      "(France, has, zone)\n",
      "(France, borders, Belgium)\n",
      "(France, borders, Luxembourg)\n",
      "(France, borders, Germany)\n",
      "(France, borders, Switzerland)\n",
      "(France, borders, Monaco)\n",
      "(France, borders, Italy)\n",
      "(France, borders, Andorra)\n",
      "(France, borders, Spain)\n",
      "(regions, span, area)\n",
      "(areas, include, Lyon)\n",
      "(areas, include, Marseille)\n",
      "(areas, include, Toulouse)\n",
      "(areas, include, Bordeaux)\n",
      "(areas, include, Lille)\n",
      "(areas, include, Nice)\n"
     ]
    }
   ],
   "source": [
    "for ep_item in triples_final:\n",
    "    # check found items are not empty\n",
    "    \n",
    "    if ep_item:\n",
    "        print(ep_item)\n",
    "        # append source/relation/target\n",
    "        sources.append(ep_item[0])\n",
    "        relations.append(ep_item[1])\n",
    "        targets.append(ep_item[2])\n",
    "    \n",
    "    #else:\n",
    "     #   print('Could not detect triples in phrase:', phrase)"
   ]
  },
  {
   "cell_type": "code",
   "execution_count": null,
   "metadata": {
    "id": "DoA1nk7gnaOG",
    "pycharm": {
     "name": "#%%\n"
    }
   },
   "outputs": [],
   "source": [
    "# create DataFrame\n",
    "kg_df = pd.DataFrame({'source': sources, 'target': targets, 'edge': relations})"
   ]
  },
  {
   "cell_type": "code",
   "execution_count": null,
   "metadata": {
    "id": "L8IOcl38naOH",
    "outputId": "fbd5b02b-4730-4f17-f3be-4986d87c3099",
    "pycharm": {
     "name": "#%%\n"
    }
   },
   "outputs": [
    {
     "data": {
      "text/html": [
       "<div>\n",
       "<style scoped>\n",
       "    .dataframe tbody tr th:only-of-type {\n",
       "        vertical-align: middle;\n",
       "    }\n",
       "\n",
       "    .dataframe tbody tr th {\n",
       "        vertical-align: top;\n",
       "    }\n",
       "\n",
       "    .dataframe thead th {\n",
       "        text-align: right;\n",
       "    }\n",
       "</style>\n",
       "<table border=\"1\" class=\"dataframe\">\n",
       "  <thead>\n",
       "    <tr style=\"text-align: right;\">\n",
       "      <th></th>\n",
       "      <th>source</th>\n",
       "      <th>target</th>\n",
       "      <th>edge</th>\n",
       "    </tr>\n",
       "  </thead>\n",
       "  <tbody>\n",
       "    <tr>\n",
       "      <th>0</th>\n",
       "      <td>(France)</td>\n",
       "      <td>(time, zones)</td>\n",
       "      <td>(has)</td>\n",
       "    </tr>\n",
       "    <tr>\n",
       "      <th>1</th>\n",
       "      <td>(territories)</td>\n",
       "      <td>(Guiana)</td>\n",
       "      <td>(include)</td>\n",
       "    </tr>\n",
       "    <tr>\n",
       "      <th>2</th>\n",
       "      <td>(territories)</td>\n",
       "      <td>(Indies)</td>\n",
       "      <td>(include)</td>\n",
       "    </tr>\n",
       "    <tr>\n",
       "      <th>3</th>\n",
       "      <td>(territories)</td>\n",
       "      <td>(islands)</td>\n",
       "      <td>(include)</td>\n",
       "    </tr>\n",
       "    <tr>\n",
       "      <th>4</th>\n",
       "      <td>(France)</td>\n",
       "      <td>(zone)</td>\n",
       "      <td>(has)</td>\n",
       "    </tr>\n",
       "    <tr>\n",
       "      <th>5</th>\n",
       "      <td>(France)</td>\n",
       "      <td>(Belgium)</td>\n",
       "      <td>(borders)</td>\n",
       "    </tr>\n",
       "    <tr>\n",
       "      <th>6</th>\n",
       "      <td>(France)</td>\n",
       "      <td>(Luxembourg)</td>\n",
       "      <td>(borders)</td>\n",
       "    </tr>\n",
       "    <tr>\n",
       "      <th>7</th>\n",
       "      <td>(France)</td>\n",
       "      <td>(Germany)</td>\n",
       "      <td>(borders)</td>\n",
       "    </tr>\n",
       "    <tr>\n",
       "      <th>8</th>\n",
       "      <td>(France)</td>\n",
       "      <td>(Switzerland)</td>\n",
       "      <td>(borders)</td>\n",
       "    </tr>\n",
       "    <tr>\n",
       "      <th>9</th>\n",
       "      <td>(France)</td>\n",
       "      <td>(Monaco)</td>\n",
       "      <td>(borders)</td>\n",
       "    </tr>\n",
       "    <tr>\n",
       "      <th>10</th>\n",
       "      <td>(France)</td>\n",
       "      <td>(Italy)</td>\n",
       "      <td>(borders)</td>\n",
       "    </tr>\n",
       "    <tr>\n",
       "      <th>11</th>\n",
       "      <td>(France)</td>\n",
       "      <td>(Andorra)</td>\n",
       "      <td>(borders)</td>\n",
       "    </tr>\n",
       "    <tr>\n",
       "      <th>12</th>\n",
       "      <td>(France)</td>\n",
       "      <td>(Spain)</td>\n",
       "      <td>(borders)</td>\n",
       "    </tr>\n",
       "    <tr>\n",
       "      <th>13</th>\n",
       "      <td>(regions)</td>\n",
       "      <td>(area)</td>\n",
       "      <td>(span)</td>\n",
       "    </tr>\n",
       "    <tr>\n",
       "      <th>14</th>\n",
       "      <td>(areas)</td>\n",
       "      <td>(Lyon)</td>\n",
       "      <td>(include)</td>\n",
       "    </tr>\n",
       "    <tr>\n",
       "      <th>15</th>\n",
       "      <td>(areas)</td>\n",
       "      <td>(Marseille)</td>\n",
       "      <td>(include)</td>\n",
       "    </tr>\n",
       "    <tr>\n",
       "      <th>16</th>\n",
       "      <td>(areas)</td>\n",
       "      <td>(Toulouse)</td>\n",
       "      <td>(include)</td>\n",
       "    </tr>\n",
       "    <tr>\n",
       "      <th>17</th>\n",
       "      <td>(areas)</td>\n",
       "      <td>(Bordeaux)</td>\n",
       "      <td>(include)</td>\n",
       "    </tr>\n",
       "    <tr>\n",
       "      <th>18</th>\n",
       "      <td>(areas)</td>\n",
       "      <td>(Lille)</td>\n",
       "      <td>(include)</td>\n",
       "    </tr>\n",
       "    <tr>\n",
       "      <th>19</th>\n",
       "      <td>(areas)</td>\n",
       "      <td>(Nice)</td>\n",
       "      <td>(include)</td>\n",
       "    </tr>\n",
       "  </tbody>\n",
       "</table>\n",
       "</div>"
      ],
      "text/plain": [
       "           source         target       edge\n",
       "0        (France)  (time, zones)      (has)\n",
       "1   (territories)       (Guiana)  (include)\n",
       "2   (territories)       (Indies)  (include)\n",
       "3   (territories)      (islands)  (include)\n",
       "4        (France)         (zone)      (has)\n",
       "5        (France)      (Belgium)  (borders)\n",
       "6        (France)   (Luxembourg)  (borders)\n",
       "7        (France)      (Germany)  (borders)\n",
       "8        (France)  (Switzerland)  (borders)\n",
       "9        (France)       (Monaco)  (borders)\n",
       "10       (France)        (Italy)  (borders)\n",
       "11       (France)      (Andorra)  (borders)\n",
       "12       (France)        (Spain)  (borders)\n",
       "13      (regions)         (area)     (span)\n",
       "14        (areas)         (Lyon)  (include)\n",
       "15        (areas)    (Marseille)  (include)\n",
       "16        (areas)     (Toulouse)  (include)\n",
       "17        (areas)     (Bordeaux)  (include)\n",
       "18        (areas)        (Lille)  (include)\n",
       "19        (areas)         (Nice)  (include)"
      ]
     },
     "execution_count": 13,
     "metadata": {},
     "output_type": "execute_result"
    }
   ],
   "source": [
    "kg_df"
   ]
  },
  {
   "cell_type": "code",
   "execution_count": null,
   "metadata": {
    "id": "4uu9gMzdnaOH",
    "pycharm": {
     "name": "#%%\n"
    }
   },
   "outputs": [],
   "source": [
    "import networkx as nx\n"
   ]
  },
  {
   "cell_type": "code",
   "execution_count": null,
   "metadata": {
    "id": "CdhWdDnpnaOH",
    "pycharm": {
     "name": "#%%\n"
    }
   },
   "outputs": [],
   "source": [
    "G = nx.from_pandas_edgelist(kg_df, \"source\", \"target\", edge_attr=True, create_using=nx.MultiDiGraph())"
   ]
  },
  {
   "cell_type": "code",
   "execution_count": null,
   "metadata": {
    "id": "7iG4_YJvnaOH",
    "pycharm": {
     "name": "#%%\n"
    }
   },
   "outputs": [],
   "source": [
    "\n",
    "nx_SG_d1 = nx.dfs_tree(G)\n",
    "edge_labels = nx.get_edge_attributes(G,'edge')"
   ]
  },
  {
   "cell_type": "code",
   "execution_count": null,
   "metadata": {
    "id": "Yq0yRDXDnaOH",
    "outputId": "9e1ae6ce-2b58-4cc2-b4df-9fb4b932180e",
    "pycharm": {
     "name": "#%%\n"
    }
   },
   "outputs": [
    {
     "data": {
      "text/plain": [
       "{(France, time zones, 0): has,\n",
       " (territories, Guiana, 0): include,\n",
       " (territories, Indies, 0): include,\n",
       " (territories, islands, 0): include,\n",
       " (France, zone, 0): has,\n",
       " (France, Belgium, 0): borders,\n",
       " (France, Luxembourg, 0): borders,\n",
       " (France, Germany, 0): borders,\n",
       " (France, Switzerland, 0): borders,\n",
       " (France, Monaco, 0): borders,\n",
       " (France, Italy, 0): borders,\n",
       " (France, Andorra, 0): borders,\n",
       " (France, Spain, 0): borders,\n",
       " (regions, area, 0): span,\n",
       " (areas, Lyon, 0): include,\n",
       " (areas, Marseille, 0): include,\n",
       " (areas, Toulouse, 0): include,\n",
       " (areas, Bordeaux, 0): include,\n",
       " (areas, Lille, 0): include,\n",
       " (areas, Nice, 0): include}"
      ]
     },
     "execution_count": 15,
     "metadata": {},
     "output_type": "execute_result"
    }
   ],
   "source": [
    "edge_labels"
   ]
  },
  {
   "cell_type": "code",
   "execution_count": null,
   "metadata": {
    "id": "625R0EYbnaOI",
    "pycharm": {
     "name": "#%%\n"
    }
   },
   "outputs": [],
   "source": [
    "\n",
    "def plot_graph(graph): \n",
    "    plt.figure(figsize=(8,8))\n",
    "    pos = nx.spring_layout(graph, k=0.5)  # k regulates the distance between nodes\n",
    "    nx.draw(graph, with_labels=True, node_color='skyblue', node_size=800, edge_cmap=plt.cm.Blues, pos=pos)\n",
    "    plt.show()"
   ]
  },
  {
   "cell_type": "code",
   "execution_count": null,
   "metadata": {
    "id": "T4gYF4S7naOI",
    "outputId": "ba09dbfe-d78f-4461-b394-e55e402321cb",
    "pycharm": {
     "name": "#%%\n"
    }
   },
   "outputs": [
    {
     "data": {
      "image/png": "[encoded data removed]",
      "text/plain": [
       "<Figure size 576x576 with 1 Axes>"
      ]
     },
     "metadata": {},
     "output_type": "display_data"
    }
   ],
   "source": [
    "plot_graph(nx_SG_d1)"
   ]
  }
 ],
 "metadata": {
  "kernelspec": {
   "display_name": "Python 3",
   "language": "python",
   "name": "python3"
  },
  "language_info": {
   "codemirror_mode": {
    "name": "ipython",
    "version": 3
   },
   "file_extension": ".py",
   "mimetype": "text/x-python",
   "name": "python",
   "nbconvert_exporter": "python",
   "pygments_lexer": "ipython3",
   "version": "3.7.7"
  },
  "colab": {
   "provenance": []
  }
 },
 "nbformat": 4,
 "nbformat_minor": 0
}