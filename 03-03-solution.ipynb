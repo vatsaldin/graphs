{
 "cells": [
  {
   "cell_type": "markdown",
   "metadata": {
    "id": "hJEYKEn6fhcI"
   },
   "source": [
    "# Training and Evaluating Classifier Model\n",
    "\n",
    "## Turn on GPU Acceleration\n",
    "\n",
    "Remember to turn on GPU Acceleration for this notebook. You can do so by clicking on **Runtime**, **Change Runtime Type**, selecting **GPU** for **Hardware Acceleration** and then clicking **Save**.\n",
    "\n",
    "## Install necessary libraries\n",
    "\n",
    "The value returned from `torch.__version__` is required to download compatible versions of `torch-scatter` and `torch-sparse`, both of which are required by Pytorch Geometric (PyG)."
   ]
  },
  {
   "cell_type": "code",
   "execution_count": 1,
   "metadata": {
    "colab": {
     "base_uri": "https://localhost:8080/",
     "height": 35
    },
    "id": "VTdOSXSKfbQl",
    "outputId": "559b6a9f-4ef6-4b8a-8bee-9ec8bcfba78b"
   },
   "outputs": [
    {
     "data": {
      "application/vnd.google.colaboratory.intrinsic+json": {
       "type": "string"
      },
      "text/plain": [
       "'1.9.0+cu111'"
      ]
     },
     "execution_count": 1,
     "metadata": {},
     "output_type": "execute_result"
    }
   ],
   "source": [
    "import torch\n",
    "torch.__version__"
   ]
  },
  {
   "cell_type": "code",
   "execution_count": 2,
   "metadata": {
    "id": "e3UoIP5Kf4NE"
   },
   "outputs": [],
   "source": [
    "!pip install -q torch-scatter -f https://pytorch-geometric.com/whl/torch-1.9.0+cu111.html\n",
    "!pip install -q torch-sparse -f https://pytorch-geometric.com/whl/torch-1.9.0+cu111.html\n",
    "\n",
    "!pip install -q torch-geometric"
   ]
  },
  {
   "cell_type": "markdown",
   "metadata": {
    "id": "ksozsx8GgnxU"
   },
   "source": [
    "## Imports"
   ]
  },
  {
   "cell_type": "code",
   "execution_count": 3,
   "metadata": {
    "id": "BVrpXvqRgiym"
   },
   "outputs": [],
   "source": [
    "import matplotlib.pyplot as plt\n",
    "import numpy as np\n",
    "\n",
    "import torch\n",
    "import torch_scatter\n",
    "import torch.nn as nn\n",
    "import torch.nn.functional as F\n",
    "import torch.optim as optim\n",
    "\n",
    "import torch_geometric.nn as pyg_nn\n",
    "\n",
    "from torch import Tensor\n",
    "from typing import Union, Tuple, Optional\n",
    "from torch_geometric.data import Data\n",
    "from torch_geometric.loader import DataLoader\n",
    "from torch_geometric.transforms import RandomNodeSplit\n",
    "\n",
    "%matplotlib inline"
   ]
  },
  {
   "cell_type": "markdown",
   "metadata": {
    "id": "aC3HR5bUgukC"
   },
   "source": [
    "## Local Imports\n",
    "\n",
    "Since we have already developed part of this training pipeline in earlier milestones, we have packaged them as Python code which we can import in this notebook.\n",
    "\n",
    "These Python scripts are provided to you along with the data files. You should have already uploaded the data and code to a named folder in your Google Drive in previous milestones. \n",
    "\n",
    "In this milestone, you will upload one additional Python file `code_p3_m2.py` containing the code for the model that we built in milestone 2.\n",
    "\n",
    "In the code that follows, I have used `manning-data` as my folder name. If yours is different please change the name accordingly.\n",
    "\n"
   ]
  },
  {
   "cell_type": "code",
   "execution_count": 4,
   "metadata": {
    "colab": {
     "base_uri": "https://localhost:8080/"
    },
    "id": "N4Ph3YDKgqR9",
    "outputId": "84cd222a-8b79-447f-a7a4-5f1446c4e0f0"
   },
   "outputs": [
    {
     "name": "stdout",
     "output_type": "stream",
     "text": [
      "Drive already mounted at /content/drive/; to attempt to forcibly remount, call drive.mount(\"/content/drive/\", force_remount=True).\n"
     ]
    }
   ],
   "source": [
    "from google.colab import drive\n",
    "drive.mount(\"/content/drive/\")"
   ]
  },
  {
   "cell_type": "code",
   "execution_count": 5,
   "metadata": {
    "colab": {
     "base_uri": "https://localhost:8080/"
    },
    "id": "s_PDrea9iMup",
    "outputId": "9228115e-00da-4c87-fc81-d182b8eb8cb5"
   },
   "outputs": [
    {
     "name": "stdout",
     "output_type": "stream",
     "text": [
      "total 20\n",
      "-rw------- 1 root root 2594 Oct 24 20:14 code_p3_m1.py\n",
      "-rw------- 1 root root 1348 Oct 24 20:14 code_p3_m2.py\n",
      "drwx------ 5 root root 4096 Oct 24 19:16 drive\n",
      "drwxr-xr-x 2 root root 4096 Oct 24 19:58 __pycache__\n",
      "drwxr-xr-x 1 root root 4096 Oct  8 13:45 sample_data\n"
     ]
    }
   ],
   "source": [
    "!cp /content/drive/MyDrive/manning-data/code_p3_*.py .\n",
    "!ls -l"
   ]
  },
  {
   "cell_type": "markdown",
   "metadata": {
    "id": "RqYIPfHUw7mu"
   },
   "source": [
    "## Set device to GPU if GPU acceleration available"
   ]
  },
  {
   "cell_type": "code",
   "execution_count": 6,
   "metadata": {
    "colab": {
     "base_uri": "https://localhost:8080/"
    },
    "id": "i2k2ZhO_w6jR",
    "outputId": "ec14256c-210a-4f71-b5fb-1d4d76b461a9"
   },
   "outputs": [
    {
     "data": {
      "text/plain": [
       "device(type='cuda')"
      ]
     },
     "execution_count": 6,
     "metadata": {},
     "output_type": "execute_result"
    }
   ],
   "source": [
    "device = torch.device(\"cuda\" if torch.cuda.is_available() else \"cpu\")\n",
    "device"
   ]
  },
  {
   "cell_type": "markdown",
   "metadata": {
    "id": "WffHC9V9tYCD"
   },
   "source": [
    "## Create DataLoaders"
   ]
  },
  {
   "cell_type": "code",
   "execution_count": 7,
   "metadata": {
    "colab": {
     "base_uri": "https://localhost:8080/"
    },
    "id": "vseOm-1qtXQd",
    "outputId": "9599946b-5ac6-4b03-b52a-880a20d30c54"
   },
   "outputs": [
    {
     "name": "stdout",
     "output_type": "stream",
     "text": [
      "dataset: Data(x=[50426, 300], edge_index=[2, 51622], y=[50426])\n",
      "num_classes: 6\n"
     ]
    }
   ],
   "source": [
    "import code_p3_m1\n",
    "\n",
    "dataset, num_classes = code_p3_m1.build_dataset(\"/content/drive/MyDrive/manning-data\")\n",
    "\n",
    "print(\"dataset:\", dataset)\n",
    "print(\"num_classes:\", num_classes)"
   ]
  },
  {
   "cell_type": "code",
   "execution_count": 8,
   "metadata": {
    "colab": {
     "base_uri": "https://localhost:8080/"
    },
    "id": "Ewa5Z7vLtpD1",
    "outputId": "860f6286-f9a3-4ed1-84ad-1fbe02af9512"
   },
   "outputs": [
    {
     "name": "stdout",
     "output_type": "stream",
     "text": [
      "train: <torch_geometric.loader.dataloader.DataLoader object at 0x7f181b038cd0>\n",
      "val: <torch_geometric.loader.dataloader.DataLoader object at 0x7f1843809710>\n",
      "test: <torch_geometric.loader.dataloader.DataLoader object at 0x7f181b038990>\n"
     ]
    }
   ],
   "source": [
    "train_loader, val_loader, test_loader = code_p3_m1.get_dataloaders(dataset, batch_size=32)\n",
    "\n",
    "print(\"train:\", train_loader)\n",
    "print(\"val:\", val_loader)\n",
    "print(\"test:\", test_loader)"
   ]
  },
  {
   "cell_type": "markdown",
   "metadata": {
    "id": "__Fb7UEUtUEB"
   },
   "source": [
    "## Create Model"
   ]
  },
  {
   "cell_type": "code",
   "execution_count": 9,
   "metadata": {
    "id": "4xKMHerekC-K"
   },
   "outputs": [],
   "source": [
    "import code_p3_m2\n",
    "\n",
    "input_dim = 300\n",
    "hidden_dim = 100\n",
    "dropout_prob = 0.2\n",
    "num_gnn_layers = 3\n",
    "num_classes = 6\n",
    "\n",
    "clf_model = code_p3_m2.GNNClassifier(input_dim, hidden_dim, num_classes, num_gnn_layers, dropout_prob)\n",
    "clf_model = clf_model.to(device)"
   ]
  },
  {
   "cell_type": "markdown",
   "metadata": {
    "id": "ORyMf8r6io_j"
   },
   "source": [
    "## Declare Optimizer\n",
    "\n",
    "There are a variety of different optimizers available in the [torch.optim](https://pytorch.org/docs/stable/optim.html) package. We will use the ADAM optimizer, a good general purpose optimizer suited for classification tasks.\n",
    "\n",
    "We will set the learning rate of the optimizer to `5e-5`. We could set additional parameters, as well as the learning rate schedule at this point, but we will keep things simple and just set the learning rate."
   ]
  },
  {
   "cell_type": "code",
   "execution_count": 10,
   "metadata": {
    "colab": {
     "base_uri": "https://localhost:8080/"
    },
    "id": "bZzHP9DGierH",
    "outputId": "aa9c8557-cdc8-41c9-e60f-8f74f74cf65c"
   },
   "outputs": [
    {
     "data": {
      "text/plain": [
       "Adam (\n",
       "Parameter Group 0\n",
       "    amsgrad: False\n",
       "    betas: (0.9, 0.999)\n",
       "    eps: 1e-08\n",
       "    lr: 0.005\n",
       "    weight_decay: 0\n",
       ")"
      ]
     },
     "execution_count": 10,
     "metadata": {},
     "output_type": "execute_result"
    }
   ],
   "source": [
    "LEARNING_RATE = 5e-3\n",
    "\n",
    "optimizer = None\n",
    "optimizer = optim.Adam(clf_model.parameters(), lr=LEARNING_RATE)\n",
    "optimizer"
   ]
  },
  {
   "cell_type": "markdown",
   "metadata": {
    "id": "JUNtTN_OlQFK"
   },
   "source": [
    "## Training Loop\n",
    "\n",
    "During training, our model will see the training data multiple number of times. Each of these cycles where the model goes through the entire training dataset is called an epoch. Within each epoch, we will first train the model with batches of training data, then validation the partially trained model with batches of validation data. Our training loop will look something like this:\n",
    "\n",
    "```\n",
    "for epoch in epochs:\n",
    "    train_step()\n",
    "    eval_stop()\n",
    "```\n",
    "\n",
    "### Train Step\n",
    "\n",
    "The train step will run through one epoch of training data delivered in fixed size batches by the train DataLoader. Within each batch, the model should do a forward pass over the data resulting in an inference. It should then compute the loss using `model.loss()`, compute the gradients using `loss.backward()` and update the model weights using `optimizer.step()`.\n",
    "\n",
    "Few important things to keep in mind.\n",
    "\n",
    "1. The model needs to be set to training mode using `model.train()`. This is because some layers such as Dropout behave differently during training and inference.\n",
    "2. The `RandomNodeSplit` data splitter creates mask arrays indicating which nodes fall into training, validation and test respectively, through the `train_mask`, `validation_mask` and `test_mask` respectively. These should be applied to the results in the forward pass to ensure that we calculate loss using only the training nodes.\n",
    "3. The gradients of the weights need to be initialized using an `optimizer.zero_grad()` before each `loss.backward()` call.\n",
    "\n",
    "Input parameters for the `train_step` function are the model to train, the optimizer to use for the training and the DataLoader to use for feeding the model with batches of training data. The outputs are the per node loss and accuracy of the model against the training data during the current training step."
   ]
  },
  {
   "cell_type": "code",
   "execution_count": 11,
   "metadata": {
    "id": "3i3xCB63jzJg"
   },
   "outputs": [],
   "source": [
    "def train_step(model, optimizer, train_loader):\n",
    "  ## - set the model to train\n",
    "  model.train()\n",
    "  total_rows, total_loss, total_correct = 0, 0, 0\n",
    "  for batch in train_loader:\n",
    "    ## (1) copy the batch object to the device\n",
    "    ## (2) initialize the optimizer gradients\n",
    "    ## (3) generate predictions for training set using currently trained model\n",
    "    ## (4) compute loss between label and predictions (use model.loss())\n",
    "    ## (5) compute the gradient of the loss (loss.backward())\n",
    "    ## (6) update the model parameter (optimizer.step())\n",
    "    batch = batch.to(device)\n",
    "    optimizer.zero_grad()\n",
    "    pred = model(batch)[batch.train_mask]\n",
    "    label = batch.y[batch.train_mask]\n",
    "    loss = model.loss(pred, label)\n",
    "    loss.backward()\n",
    "    optimizer.step()\n",
    "\n",
    "    total_loss += loss.item()\n",
    "    total_correct += pred.max(dim=1)[1].eq(label).sum().item()\n",
    "    total_rows += torch.sum(batch.train_mask).item()\n",
    "  return total_loss / total_rows, total_correct / total_rows"
   ]
  },
  {
   "cell_type": "markdown",
   "metadata": {
    "id": "Pe3es4LZrEjV"
   },
   "source": [
    "### Evaluation Step\n",
    "\n",
    "We use the evaluation step to test our partially trained model against data from our validation split.\n",
    "\n",
    "This is similar to the `train_step` function except that we are doing inference here, thus there is no code to backpropagate the gradient of the loss to the model weights.\n",
    "\n",
    "Important things to keep in mind here.\n",
    "\n",
    "1. Set the model to eval mode using `model.eval()`.\n",
    "2. Use the appropriate mask to select predictions for only the validation subset of the nodes.\n",
    "3. You still need to compute the loss, just not back-propagate it.\n",
    "\n",
    "Because the functionality of the evaluation step can be re-used when evaluating the fully trained model on our held-out test split, the input parameters to this function will include the DataLoader (validation or test) to use, and a flag indicating if this is for validation, in addition to the model. Outputs are the per node loss and validation accuracy of the model."
   ]
  },
  {
   "cell_type": "code",
   "execution_count": 12,
   "metadata": {
    "id": "4_2FrTcgrBvk"
   },
   "outputs": [],
   "source": [
    "def eval_step(model, test_loader, is_validation=False):\n",
    "  ## - set the model to eval mode\n",
    "  model.eval()\n",
    "  total_rows, total_loss, total_correct = 0, 0, 0\n",
    "  for batch in test_loader:\n",
    "    ## (1) copy batch object to device\n",
    "    ## (2) select val_mask if is_validation True else test_mask\n",
    "    ## (3) compute predictions using appropriate split (validation or test)\n",
    "    ##.(4) compute loss\n",
    "    batch = batch.to(device)\n",
    "    mask = batch.val_mask if is_validation else batch.test_mask\n",
    "    with torch.no_grad():\n",
    "      pred = model(batch)[mask]\n",
    "      label = batch.y[mask]\n",
    "    loss = model.loss(pred, label)\n",
    "    total_loss += loss.item()\n",
    "    total_correct += pred.max(dim=1)[1].eq(label).sum().item()\n",
    "    total_rows += torch.sum(mask).item()\n",
    "  return total_loss / total_rows, total_correct / total_rows"
   ]
  },
  {
   "cell_type": "markdown",
   "metadata": {
    "id": "zPHgI9mgs-ey"
   },
   "source": [
    "### Train Model\n",
    "\n",
    "The training loop is just the `train_step` and `eval_step` called alternately at each epoch of training. Since both functions return the loss and accuracy, we print these at the end of each epoch, and save them off into the `history` list object for viauslization.\n",
    "\n",
    "\n",
    "We also check whether GPU acceleration is available and if so, move the model to the GPU. Recall that we have already moved our data batches to the device given by the current device.\n"
   ]
  },
  {
   "cell_type": "code",
   "execution_count": 13,
   "metadata": {
    "colab": {
     "base_uri": "https://localhost:8080/"
    },
    "id": "q-8qI6WFs5nd",
    "outputId": "affe4db4-a3be-4344-b218-eefda4248feb"
   },
   "outputs": [
    {
     "name": "stdout",
     "output_type": "stream",
     "text": [
      "EPOCH  10, TRAIN loss: 0.00004, acc: 0.43090, VAL loss: 0.00028, acc: 0.44775\n",
      "EPOCH  20, TRAIN loss: 0.00004, acc: 0.47005, VAL loss: 0.00026, acc: 0.51735\n",
      "EPOCH  30, TRAIN loss: 0.00004, acc: 0.52612, VAL loss: 0.00024, acc: 0.55126\n",
      "EPOCH  40, TRAIN loss: 0.00003, acc: 0.54621, VAL loss: 0.00023, acc: 0.56415\n",
      "EPOCH  50, TRAIN loss: 0.00003, acc: 0.57700, VAL loss: 0.00022, acc: 0.58596\n",
      "EPOCH  60, TRAIN loss: 0.00003, acc: 0.61596, VAL loss: 0.00021, acc: 0.62304\n",
      "EPOCH  70, TRAIN loss: 0.00003, acc: 0.62686, VAL loss: 0.00020, acc: 0.63514\n",
      "EPOCH  80, TRAIN loss: 0.00003, acc: 0.63536, VAL loss: 0.00019, acc: 0.64684\n",
      "EPOCH  90, TRAIN loss: 0.00003, acc: 0.64511, VAL loss: 0.00019, acc: 0.65080\n",
      "EPOCH 100, TRAIN loss: 0.00003, acc: 0.65015, VAL loss: 0.00019, acc: 0.64485\n",
      "EPOCH 110, TRAIN loss: 0.00003, acc: 0.65324, VAL loss: 0.00019, acc: 0.65517\n",
      "EPOCH 120, TRAIN loss: 0.00003, acc: 0.66463, VAL loss: 0.00019, acc: 0.65695\n",
      "EPOCH 130, TRAIN loss: 0.00003, acc: 0.67154, VAL loss: 0.00018, acc: 0.66409\n",
      "EPOCH 140, TRAIN loss: 0.00003, acc: 0.67194, VAL loss: 0.00018, acc: 0.66568\n",
      "EPOCH 150, TRAIN loss: 0.00003, acc: 0.67531, VAL loss: 0.00018, acc: 0.66726\n",
      "EPOCH 160, TRAIN loss: 0.00002, acc: 0.67916, VAL loss: 0.00018, acc: 0.66488\n",
      "EPOCH 170, TRAIN loss: 0.00002, acc: 0.67981, VAL loss: 0.00018, acc: 0.65873\n",
      "EPOCH 180, TRAIN loss: 0.00002, acc: 0.68352, VAL loss: 0.00018, acc: 0.66508\n",
      "EPOCH 190, TRAIN loss: 0.00002, acc: 0.68562, VAL loss: 0.00019, acc: 0.66548\n",
      "EPOCH 200, TRAIN loss: 0.00002, acc: 0.68236, VAL loss: 0.00018, acc: 0.66191\n"
     ]
    }
   ],
   "source": [
    "NUM_EPOCHS = 200\n",
    "\n",
    "history = []\n",
    "for epoch in range(NUM_EPOCHS):\n",
    "  train_loss, train_acc, val_loss, val_acc = None, None, None, None\n",
    "  ## (1) call train_step with model, optimizer and train_loader, return\n",
    "  ##     train_loss and train_acc\n",
    "  ## (2) call eval_step with model, val_loader and is_validation=True, \n",
    "  ##     return val_loss and val_acc\n",
    "  train_loss, train_acc = train_step(clf_model, optimizer, train_loader)\n",
    "  val_loss, val_acc = eval_step(clf_model, val_loader, is_validation=True)\n",
    "  history.append((train_loss, train_acc, val_loss, val_acc))\n",
    "  if (epoch + 1) % 10 == 0:\n",
    "    print(\"EPOCH {:3d}, TRAIN loss: {:.5f}, acc: {:.5f}, VAL loss: {:.5f}, acc: {:.5f}\"\n",
    "      .format(epoch + 1, train_loss, train_acc, val_loss, val_acc))"
   ]
  },
  {
   "cell_type": "markdown",
   "metadata": {
    "id": "svm5lQi1vVYo"
   },
   "source": [
    "### Plot training loss and accuracy"
   ]
  },
  {
   "cell_type": "code",
   "execution_count": 14,
   "metadata": {
    "colab": {
     "base_uri": "https://localhost:8080/",
     "height": 334
    },
    "id": "yayOlw0ouIco",
    "outputId": "2f647bec-86f2-47ab-bb18-f6f318ef59c2"
   },
   "outputs": [
    {
     "data": {
      "image/png": "[encoded data removed]",
      "text/plain": [
       "<Figure size 720x360 with 2 Axes>"
      ]
     },
     "metadata": {
      "needs_background": "light"
     },
     "output_type": "display_data"
    }
   ],
   "source": [
    "train_losses, train_accs, val_losses, val_accs = [], [], [], []\n",
    "for train_loss, train_acc, val_loss, val_acc in history:\n",
    "  train_losses.append(train_loss)\n",
    "  val_losses.append(val_loss)\n",
    "  train_accs.append(train_acc)\n",
    "  val_accs.append(val_acc)\n",
    "\n",
    "epochs = np.arange(len(history))\n",
    "\n",
    "plt.figure(figsize=(10, 5))\n",
    "\n",
    "plt.subplot(2, 1, 1)\n",
    "plt.plot(epochs, train_losses, label=\"train\")\n",
    "plt.plot(epochs, val_losses, label=\"val\")\n",
    "plt.xlabel(\"epochs\")\n",
    "plt.ylabel(\"loss\")\n",
    "plt.legend(loc=\"best\")\n",
    "\n",
    "plt.subplot(2, 1, 2)\n",
    "plt.plot(epochs, train_accs, label=\"train\")\n",
    "plt.plot(epochs, val_accs, label=\"val\")\n",
    "plt.xlabel(\"epochs\")\n",
    "plt.ylabel(\"accuracy\")\n",
    "plt.legend(loc=\"best\")\n",
    "\n",
    "_ = plt.show()"
   ]
  },
  {
   "cell_type": "markdown",
   "metadata": {
    "id": "2YfQYEQyxPdW"
   },
   "source": [
    "## Evaluate Trained Model\n",
    "\n",
    "Finally, we want to see how effective our model is against the held-out test data. \n",
    "\n",
    "The evaluation against the test data is the same as running the test data against the model and calculating the accuracy over all the batches. This is essentially what we built for the `eval_step`, except it was using validation data and a partially trained model. So we can basically re-use the `eval_step` function to evaluate our trained model as shown below."
   ]
  },
  {
   "cell_type": "code",
   "execution_count": 15,
   "metadata": {
    "colab": {
     "base_uri": "https://localhost:8080/"
    },
    "id": "mx8w-32GvXr4",
    "outputId": "a720aa6b-6453-4338-bbab-33727c059266"
   },
   "outputs": [
    {
     "name": "stdout",
     "output_type": "stream",
     "text": [
      "test accuracy: 0.6606841844323252\n"
     ]
    }
   ],
   "source": [
    "test_acc = None\n",
    "## - call eval_step with model test_loader, and is_validation=False\n",
    "##   capture test_acc\n",
    "_, test_acc = eval_step(clf_model, test_loader)\n",
    "print(\"test accuracy:\", test_acc)"
   ]
  },
  {
   "cell_type": "code",
   "execution_count": 15,
   "metadata": {
    "id": "Aea613wCyQh6"
   },
   "outputs": [],
   "source": []
  }
 ],
 "metadata": {
  "accelerator": "GPU",
  "colab": {
   "collapsed_sections": [],
   "name": "03-03-solution.ipynb",
   "provenance": []
  },
  "kernelspec": {
   "display_name": "Python 3 (ipykernel)",
   "language": "python",
   "name": "python3"
  },
  "language_info": {
   "codemirror_mode": {
    "name": "ipython",
    "version": 3
   },
   "file_extension": ".py",
   "mimetype": "text/x-python",
   "name": "python",
   "nbconvert_exporter": "python",
   "pygments_lexer": "ipython3",
   "version": "3.7.13"
  }
 },
 "nbformat": 4,
 "nbformat_minor": 1
}
